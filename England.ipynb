{
 "cells": [
  {
   "cell_type": "code",
   "execution_count": 9,
   "metadata": {},
   "outputs": [],
   "source": [
    "import pandas as pd\n",
    "import glob"
   ]
  },
  {
   "cell_type": "code",
   "execution_count": 10,
   "metadata": {},
   "outputs": [],
   "source": [
    "# Get drug data (NB some drugs duplicated for illnesses)\n",
    "drug_data = pd.read_csv(\"drug_list.csv\")"
   ]
  },
  {
   "cell_type": "code",
   "execution_count": 11,
   "metadata": {},
   "outputs": [],
   "source": [
    "# Function to find loneliness related prescribing\n",
    "def code_loneliness(x):\n",
    "    out = {}\n",
    "    # coding by illness categories\n",
    "    for illness in drug_data['illness'].unique():\n",
    "        out[illness] = x['BNF_DESCRIPTION'].str.contains(\"|\".join(drug_data[drug_data['illness'] == illness]['medication']),\n",
    "                                                  case=False, \n",
    "                                                  regex=True).astype('int16')\n",
    "    # Make dataframe\n",
    "    out = pd.DataFrame(out)\n",
    "    # Add loneliness related disease binary - avoids double counting some drugs.\n",
    "    out['loneliness'] = x['BNF_DESCRIPTION'].str.contains(\"|\".join(drug_data['medication'].unique()),\n",
    "                                                   case = False, \n",
    "                                                   regex = True).astype('int16')\n",
    "    # Return dataframe multiplied by counts of items.\n",
    "    return out.multiply(x['ITEMS'], axis=0)"
   ]
  },
  {
   "cell_type": "code",
   "execution_count": 12,
   "metadata": {},
   "outputs": [],
   "source": [
    "def england_data(year):\n",
    "    path = '../testing/England_data/EPD_'+year+'*.zip'\n",
    "    big_data = pd.DataFrame()\n",
    "    for file in glob.glob(path):\n",
    "        print(file)\n",
    "        prescribe = pd.read_csv(file, compression='zip', header=0, sep=',', quotechar='\"')\n",
    "        prescribe = prescribe.rename(columns={'YEAR_MONTH':'Date','PRACTICE_NAME':'CenterName','PRACTICE_CODE':'PracCode'})\n",
    "        loneliness_prescribing = code_loneliness(prescribe[['BNF_DESCRIPTION','ITEMS']])\n",
    "        prescribe = prescribe.merge(loneliness_prescribing, left_index=True, right_index=True)\n",
    "        prescribe['pcstrip'] = prescribe['POSTCODE'].str.replace(\"\\s\",\"\")\n",
    "        output = prescribe[['PracCode','depression', 'alzheimers', 'blood pressure',\n",
    "       'hypertension', 'diabeties', 'cardiovascular disease', 'insomnia',\n",
    "       'addiction', 'social anxiety', 'ITEMS', 'loneliness','Date','pcstrip',\n",
    "       'ADDRESS_1', 'ADDRESS_2', 'ADDRESS_3', 'ADDRESS_4','POSTCODE']]\n",
    "        big_data = pd.concat((big_data,output),ignore_index=True,axis=0)\n",
    "    # big_data.to_csv(year+'England_data.csv')\n",
    "    return big_data"
   ]
  },
  {
   "cell_type": "code",
   "execution_count": 13,
   "metadata": {},
   "outputs": [],
   "source": [
    "years = ['2018','2020','2022']"
   ]
  },
  {
   "cell_type": "code",
   "execution_count": 14,
   "metadata": {},
   "outputs": [],
   "source": [
    "a = england_data('2020')"
   ]
  },
  {
   "cell_type": "code",
   "execution_count": 15,
   "metadata": {},
   "outputs": [
    {
     "name": "stdout",
     "output_type": "stream",
     "text": [
      "Empty DataFrame\n",
      "Columns: []\n",
      "Index: []\n"
     ]
    }
   ],
   "source": [
    "print(a)"
   ]
  },
  {
   "cell_type": "code",
   "execution_count": null,
   "metadata": {},
   "outputs": [],
   "source": []
  }
 ],
 "metadata": {
  "kernelspec": {
   "display_name": "Python 3.9.12 ('base')",
   "language": "python",
   "name": "python3"
  },
  "language_info": {
   "codemirror_mode": {
    "name": "ipython",
    "version": 3
   },
   "file_extension": ".py",
   "mimetype": "text/x-python",
   "name": "python",
   "nbconvert_exporter": "python",
   "pygments_lexer": "ipython3",
   "version": "3.8.12"
  },
  "orig_nbformat": 4,
  "vscode": {
   "interpreter": {
    "hash": "ad2bdc8ecc057115af97d19610ffacc2b4e99fae6737bb82f5d7fb13d2f2c186"
   }
  }
 },
 "nbformat": 4,
 "nbformat_minor": 2
}
